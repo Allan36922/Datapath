{
  "cells": [
    {
      "cell_type": "markdown",
      "metadata": {
        "id": "oMOe12yWlm8K"
      },
      "source": [
        "# Ejercicios"
      ]
    },
    {
      "cell_type": "markdown",
      "metadata": {
        "id": "lN4kJcUUltXO"
      },
      "source": [
        "Los datos adjuntos a esta lección forman parte de la base de datos Football Data from Transfermarkt de Kaggle. El conjunto de datos se compone de varios archivos CSV con información sobre competiciones, juegos, clubes, jugadores y apariciones.\n",
        "\n",
        "1. Determine los tres países con mayor número de jugadores(jugadores nacidos en ese país). El resultado debe estar ordenado de forma descendente.\n",
        "\n",
        "2. Obtenga la lista de jugadores con tarjeta roja. La salida debe contener dos columnas, el nombre de pila del jugador y la cantidad de tarjetas rojas que tiene.\n",
        "\n",
        "3. ¿Cuántos juegos se jugaron en la Premier League? La salida debe contener dos columnas, el nombre de la liga y la cantidad de juegos que se jugaron en ella.\n",
        "4. Obtenga las tres ligas con mayor número de asistencia de público teniendo en cuenta todos los juegos que se jugaron en ellas. El resultado debe estar ordenado de forma descendente y tener dos columnas, el nombre de la liga y la asistencia total.\n",
        "\n",
        "Recursos de esta clase\n",
        "data.zip"
      ]
    },
    {
      "cell_type": "code",
      "execution_count": null,
      "metadata": {
        "id": "Q5UHg_pMnUt_"
      },
      "outputs": [],
      "source": [
        "# Importar librerías\n",
        "import os\n",
        "os.environ[\"JAVA_HOME\"] = \"/usr/lib/jvm/java-8-openjdk-amd64\"\n",
        "os.environ[\"SPARK_HOME\"] = \"/content/spark-3.2.3-bin-hadoop3.2\"\n",
        "import findspark\n",
        "findspark.init()\n",
        "from pyspark.sql import SparkSession\n",
        "from pyspark.sql.functions import col, desc\n",
        "\n",
        "# Crea una sesión de Spark\n",
        "spark = SparkSession.builder.appName(\"EjercicioDataFrames\").getOrCreate()\n",
        "\n",
        "# 1. Determinar los tres países con mayor número de jugadores nacidos en ese país\n",
        "players_df = spark.read.csv(\"players.csv\", header=True, inferSchema=True)\n",
        "top_countries = players_df.groupBy(\"country_of_birth\").count().orderBy(desc(\"count\")).limit(3)\n",
        "\n",
        "# Muestra el resultado\n",
        "top_countries.show()\n",
        "\n",
        "# 2. Obtener la lista de jugadores con tarjeta roja\n",
        "appearances_df = spark.read.csv(\"appearances.csv\", header=True, inferSchema=True)\n",
        "red_cards_df = appearances_df.groupBy(\"player_id\").sum(\"red_cards\").filter(col(\"sum(red_cards)\") > 0)\n",
        "\n",
        "# Une los DataFrames para obtener el nombre del jugador\n",
        "red_cards_players_df = red_cards_df.join(players_df, \"player_id\").select(\"pretty_name\", \"sum(red_cards)\")\n",
        "\n",
        "# Renombra la columna sum(red_cards)\n",
        "red_cards_players_df = red_cards_players_df.withColumnRenamed(\"sum(red_cards)\", \"red_cards_count\")\n",
        "\n",
        "# Muestra el resultado\n",
        "red_cards_players_df.show()\n",
        "\n",
        "# 3. Contar la cantidad de juegos en la Premier League\n",
        "games_df = spark.read.csv(\"games.csv\", header=True, inferSchema=True)\n",
        "premier_league_games_count = games_df.filter(games_df.competition_code == \"PL\").count()\n",
        "\n",
        "# Muestra el resultado\n",
        "print(\"Cantidad de juegos en la Premier League:\", premier_league_games_count)\n",
        "\n",
        "# 4. Obtener las tres ligas con mayor asistencia de público\n",
        "leagues_df = spark.read.csv(\"leagues.csv\", header=True, inferSchema=True)\n",
        "games_with_attendance_df = games_df.filter(col(\"attendance\").isNotNull())\n",
        "league_attendance = games_with_attendance_df.join(leagues_df, games_with_attendance_df.competition_code == leagues_df.league_id) \\\n",
        "    .groupBy(\"name\").sum(\"attendance\").orderBy(desc(\"sum(attendance)\")).limit(3)\n",
        "\n",
        "# Renombra la columna sum(attendance)\n",
        "league_attendance = league_attendance.withColumnRenamed(\"sum(attendance)\", \"total_attendance\")\n",
        "\n",
        "# Muestra el resultado\n",
        "league_attendance.show()\n",
        "\n",
        "# Detiene la sesión de Spark\n",
        "spark.stop()\n"
      ]
    }
  ],
  "metadata": {
    "colab": {
      "provenance": []
    },
    "kernelspec": {
      "display_name": "Python 3",
      "name": "python3"
    },
    "language_info": {
      "name": "python"
    }
  },
  "nbformat": 4,
  "nbformat_minor": 0
}
