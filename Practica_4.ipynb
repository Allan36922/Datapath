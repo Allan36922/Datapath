{
  "cells": [
    {
      "cell_type": "markdown",
      "metadata": {
        "id": "oMOe12yWlm8K"
      },
      "source": [
        "# Ejercicios"
      ]
    },
    {
      "cell_type": "markdown",
      "metadata": {},
      "source": [
        "Recursos de esta clase\n",
        "Recursos de esta clase\n",
        "data.zip\n",
        "\n",
        "Los datos adjuntos como recurso a esta lección contienen los importes de ventas en un día en un supermercado."
      ]
    },
    {
      "cell_type": "code",
      "execution_count": null,
      "metadata": {},
      "outputs": [],
      "source": [
        "# Importar librerías\n",
        "import os\n",
        "os.environ[\"JAVA_HOME\"] = \"/usr/lib/jvm/java-8-openjdk-amd64\"\n",
        "os.environ[\"SPARK_HOME\"] = \"/content/spark-3.2.3-bin-hadoop3.2\"\n",
        "import findspark\n",
        "findspark.init()\n",
        "from pyspark import SparkContext, SparkConf\n",
        "\n",
        "# Configuración contexto Spark\n",
        "conf = SparkConf().setAppName(\"EjercicioRDD\")\n",
        "sc = SparkContext(conf=conf)"
      ]
    },
    {
      "cell_type": "markdown",
      "metadata": {
        "id": "lN4kJcUUltXO"
      },
      "source": [
        "\n",
        "\n",
        "1. Cree un RDD importes a partir de los datos adjuntos a esta lección como recurso. Emplee acumuladores para obtener el total de ventas realizadas y el importe total de las ventas.\n"
      ]
    },
    {
      "cell_type": "code",
      "execution_count": null,
      "metadata": {},
      "outputs": [],
      "source": [
        "# 1. Crea un RDD importes a partir del archivo rdd.txt\n",
        "importes_rdd = sc.textFile(\"rdd.txt\") \n",
        "\n",
        "# Convierte el RDD de strings a RDD de floats\n",
        "importes_float_rdd = importes_rdd.map(float)\n",
        "\n",
        "# Emplea acumuladores para obtener el total de ventas realizadas y el importe total de las ventas\n",
        "total_ventas = sc.accumulator(0.0)\n",
        "importe_total = sc.accumulator(0.0)\n",
        "\n",
        "def procesar_venta(importe):\n",
        "    global total_ventas, importe_total\n",
        "    total_ventas += 1\n",
        "    importe_total += importe\n",
        "    return importe - 10.0"
      ]
    },
    {
      "cell_type": "markdown",
      "metadata": {},
      "source": [
        "2. Si se conoce que a cada venta hay que restarle un importe fijo igual a 10 pesos por temas de impuestos.\n",
        " * a. ¿Cómo restaría este impuesto de cada venta utilizando una variable broadcast para acelerar el proceso?\n",
        " * b. Cree un RDD llamado ventas_sin_impuestos a partir de la propuesta del inciso a que contenga las ventas sin impuestos.\n",
        " * c. Destruya la variable broadcast creada luego de emplearla para crear el RDD del inciso b.\n"
      ]
    },
    {
      "cell_type": "code",
      "execution_count": null,
      "metadata": {},
      "outputs": [],
      "source": [
        "# 2a. Resta el impuesto de cada venta utilizando una variable broadcast\n",
        "importe_fijo = 10.0\n",
        "importe_fijo_broadcast = sc.broadcast(importe_fijo)\n",
        "\n",
        "# 2b. Crea un RDD llamado ventas_sin_impuestos\n",
        "ventas_sin_impuestos = importes_float_rdd.map(lambda x: x - importe_fijo_broadcast.value)\n",
        "\n",
        "# 2c. Destruye la variable broadcast\n",
        "importe_fijo_broadcast.unpersist()"
      ]
    },
    {
      "cell_type": "markdown",
      "metadata": {},
      "source": [
        "3.  Persista el RDD ventas_sin_impuestos en los siguientes niveles de persistencia.\n",
        "* a. Memoria.\n",
        "* b. Disco solamente\n",
        "* c. Memoria y disco.\n",
        "\n"
      ]
    },
    {
      "cell_type": "code",
      "execution_count": null,
      "metadata": {},
      "outputs": [],
      "source": [
        "# 3a. Persiste el RDD ventas_sin_impuestos en memoria\n",
        "ventas_sin_impuestos.persist()\n",
        "\n",
        "# 3b. Persiste el RDD ventas_sin_impuestos en disco solamente\n",
        "ventas_sin_impuestos.saveAsTextFile(\"ventas_sin_impuestos\")\n",
        "\n",
        "# 3c. Persiste el RDD ventas_sin_impuestos en memoria y disco\n",
        "ventas_sin_impuestos.persist(storageLevel=StorageLevel(True, True, False, False))\n",
        "\n",
        "# Detiene el contexto Spark\n",
        "sc.stop()"
      ]
    }
  ],
  "metadata": {
    "colab": {
      "provenance": []
    },
    "kernelspec": {
      "display_name": "Python 3",
      "name": "python3"
    },
    "language_info": {
      "name": "python"
    }
  },
  "nbformat": 4,
  "nbformat_minor": 0
}
